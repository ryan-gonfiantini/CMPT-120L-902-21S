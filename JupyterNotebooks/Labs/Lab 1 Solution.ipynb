{
 "metadata": {
  "language_info": {
   "codemirror_mode": {
    "name": "ipython",
    "version": 3
   },
   "file_extension": ".py",
   "mimetype": "text/x-python",
   "name": "python",
   "nbconvert_exporter": "python",
   "pygments_lexer": "ipython3",
   "version": "3.9.1-final"
  },
  "orig_nbformat": 2,
  "kernelspec": {
   "name": "python3",
   "display_name": "Python 3.9.1 64-bit",
   "metadata": {
    "interpreter": {
     "hash": "aee8b7b246df8f9039afb4144a1f6fd8d2ca17a180786b69acc140d282b71a49"
    }
   }
  }
 },
 "nbformat": 4,
 "nbformat_minor": 2,
 "cells": [
  {
   "cell_type": "markdown",
   "metadata": {},
   "source": [
    "# Lab One Solution\n",
    "---\n",
    "This is just an example of what the solution could've looked like\n",
    "\n",
    "Our Goals are:\n",
    "- Defining variables\n",
    "- Using math\n",
    "- Manipulating variables\n",
    "- Changing data types\n",
    "- Playing with lists"
   ]
  },
  {
   "cell_type": "code",
   "execution_count": 2,
   "metadata": {
    "tags": []
   },
   "outputs": [
    {
     "output_type": "stream",
     "name": "stdout",
     "text": "Dog\n10\n3.14\nTrue\n"
    }
   ],
   "source": [
    "# Define 4 variables, one of each type listed: [Integer, String, Boolean, Float]. Print all 4.\n",
    "favorite_animal = \"Dog\"\n",
    "favorite_number = 10\n",
    "known_decimals = 3.14\n",
    "can_drive = True\n",
    "\n",
    "print(favorite_animal)\n",
    "print(favorite_number)\n",
    "print(known_decimals)\n",
    "print(can_drive)\n"
   ]
  },
  {
   "cell_type": "code",
   "execution_count": 1,
   "metadata": {
    "tags": []
   },
   "outputs": [
    {
     "output_type": "stream",
     "name": "stdout",
     "text": [
      "15\n5\n2.0\n50\n0\n"
     ]
    }
   ],
   "source": [
    "# With whatever variables you'd like demonstrate the following: [Addition, Subtraction, Division, Multiplication, Modulo]. Print all 5.\n",
    "input1 = 10\n",
    "input2 = 5\n",
    "\n",
    "print(input1 + input2)\n",
    "print(input1 - input2)\n",
    "print(input1 / input2)\n",
    "print(input1 * input2)\n",
    "print(input1 % input2)"
   ]
  },
  {
   "cell_type": "code",
   "execution_count": 6,
   "metadata": {
    "tags": []
   },
   "outputs": [
    {
     "output_type": "stream",
     "name": "stdout",
     "text": "57\n"
    }
   ],
   "source": [
    "# Using 2 variables and addition print the number 57\n",
    "first_half = 28.5\n",
    "second_half = 28.5\n",
    "print(int(first_half + second_half))"
   ]
  },
  {
   "cell_type": "code",
   "execution_count": 7,
   "metadata": {
    "tags": []
   },
   "outputs": [
    {
     "output_type": "stream",
     "name": "stdout",
     "text": "37\n10\n299.99\nTrue\n"
    }
   ],
   "source": [
    "# Change this variable to a string and print\n",
    "number_into_string = 37\n",
    "print(str(number_into_string))\n",
    "# Change this variable to a integer and print\n",
    "string_into_number = '10'\n",
    "print(int(string_into_number))\n",
    "# Change this variable to a float and print\n",
    "string_into_float = '299.99'\n",
    "print(float(string_into_float))\n",
    "# Change this variable to a boolean and print\n",
    "number_into_boolean = 37\n",
    "print(bool(number_into_boolean))\n"
   ]
  },
  {
   "cell_type": "code",
   "execution_count": null,
   "metadata": {},
   "outputs": [],
   "source": [
    "# Make me a list of any type\n",
    "favorite_animals = [\"Cats\", \"Dogs\"]"
   ]
  }
 ]
}