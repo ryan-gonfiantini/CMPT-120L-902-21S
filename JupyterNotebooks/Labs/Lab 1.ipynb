{
 "metadata": {
  "language_info": {
   "codemirror_mode": {
    "name": "ipython",
    "version": 3
   },
   "file_extension": ".py",
   "mimetype": "text/x-python",
   "name": "python",
   "nbconvert_exporter": "python",
   "pygments_lexer": "ipython3",
   "version": "3.8.5-final"
  },
  "orig_nbformat": 2,
  "kernelspec": {
   "name": "python3",
   "display_name": "Python 3.8.5 64-bit ('ryang': virtualenv)",
   "metadata": {
    "interpreter": {
     "hash": "44ab3308e197ffbdc335c7200a2330e8da8c59f7ee3524364778ce713b336a13"
    }
   }
  }
 },
 "nbformat": 4,
 "nbformat_minor": 2,
 "cells": [
  {
   "cell_type": "markdown",
   "metadata": {},
   "source": [
    "# Lab One\n",
    "# Ryan Gonfiantini\n",
    "---\n",
    "\n",
    "Ok for this lab we're going to reiterate a lot of the things that we went over in class.\n",
    "\n",
    "Our Goals are:\n",
    "- Defining variables\n",
    "- Using math\n",
    "- Manipulating variables\n",
    "- Changing data types\n",
    "- Playing with lists"
   ]
  },
  {
   "cell_type": "code",
   "execution_count": 7,
   "metadata": {},
   "outputs": [
    {
     "output_type": "stream",
     "name": "stdout",
     "text": [
      "5\nthis is a string\nTrue\n2.5\n"
     ]
    }
   ],
   "source": [
    "# Define 4 variables, one of each type listed: [Integer, String, Boolean, Float]. Print all 4.\n",
    "#integer \n",
    "x = 5 \n",
    "print (x)\n",
    "#string \n",
    "y = \"this is a string\" \n",
    "print (y) \n",
    "#boolean\n",
    "food_is_good = True \n",
    "print (food_is_good)\n",
    "#float\n",
    "z = 2.5 \n",
    "print (z)"
   ]
  },
  {
   "cell_type": "code",
   "execution_count": 12,
   "metadata": {},
   "outputs": [
    {
     "output_type": "stream",
     "name": "stdout",
     "text": [
      "25\n-15\n0.25\n100\n5\n"
     ]
    }
   ],
   "source": [
    "# With whatever variables you'd like demonstrate the following: [Addition, Subtraction, Division, Multiplication, Modulo]. Print all 5.\n",
    "\n",
    "#addition \n",
    "input1 = 5\n",
    "input2 = 20 \n",
    "print (input1 + input2)\n",
    "#subtraction\n",
    "print (input1 - input2)\n",
    "#division \n",
    "print (input1 / input2)\n",
    "#multiplication \n",
    "print (input1 * input2)\n",
    "#modulo\n",
    "print (input1 % input2)"
   ]
  },
  {
   "cell_type": "code",
   "execution_count": 18,
   "metadata": {},
   "outputs": [
    {
     "output_type": "stream",
     "name": "stdout",
     "text": [
      "57\n"
     ]
    }
   ],
   "source": [
    "# Using 2 variables and addition print the number 57\n",
    "input3 = 50\n",
    "input4 = 7\n",
    "print (input3 + input4)"
   ]
  },
  {
   "cell_type": "code",
   "execution_count": 26,
   "metadata": {
    "tags": []
   },
   "outputs": [
    {
     "output_type": "stream",
     "name": "stdout",
     "text": [
      "37\n10\n299.99\nFalse\n"
     ]
    }
   ],
   "source": [
    "# Change this variable to a string and print\n",
    "number_into_string = \"37\"\n",
    "print (number_into_string)\n",
    "# Change this variable to a integer and print\n",
    "string_into_number = 10\n",
    "print (string_into_number)\n",
    "# Change this variable to a float and print\n",
    "string_into_float = 299.99\n",
    "print (string_into_float)\n",
    "# Change this variable to a boolean and print\n",
    "number_into_boolean = False \n",
    "print (number_into_boolean)\n"
   ]
  },
  {
   "cell_type": "code",
   "execution_count": 31,
   "metadata": {},
   "outputs": [
    {
     "output_type": "stream",
     "name": "stdout",
     "text": [
      "[1, 2, 3, 4, 5, 6]\n"
     ]
    }
   ],
   "source": [
    "# Make me a list of any type\n",
    "list= [1,2,3,4,5,6,]\n",
    "print (list)\n"
   ]
  },
  {
   "cell_type": "code",
   "execution_count": null,
   "metadata": {},
   "outputs": [],
   "source": []
  }
 ]
}