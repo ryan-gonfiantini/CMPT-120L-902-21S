{
 "metadata": {
  "language_info": {
   "codemirror_mode": {
    "name": "ipython",
    "version": 3
   },
   "file_extension": ".py",
   "mimetype": "text/x-python",
   "name": "python",
   "nbconvert_exporter": "python",
   "pygments_lexer": "ipython3",
   "version": "3.8.5-final"
  },
  "orig_nbformat": 2,
  "kernelspec": {
   "name": "python3",
   "display_name": "Python 3.8.5 64-bit (conda)",
   "metadata": {
    "interpreter": {
     "hash": "44ab3308e197ffbdc335c7200a2330e8da8c59f7ee3524364778ce713b336a13"
    }
   }
  }
 },
 "nbformat": 4,
 "nbformat_minor": 2,
 "cells": [
  {
   "cell_type": "markdown",
   "metadata": {},
   "source": [
    "# Lab Two\n",
    "# Ryan Gonfiantini\n",
    "---\n",
    "\n",
    "For this lab we're going to get into logic\n",
    "\n",
    "Our Goals are:\n",
    "- Using Conditionals\n",
    "- Using Loops\n",
    "- Creating a Function\n",
    "- Using a Class"
   ]
  },
  {
   "cell_type": "code",
   "execution_count": 29,
   "metadata": {},
   "outputs": [
    {
     "output_type": "stream",
     "name": "stdout",
     "text": [
      "I can go out\nwe are going to applebee's\n"
     ]
    }
   ],
   "source": [
    "# Create an if statement\n",
    "I_do_my_homework = True\n",
    "if (I_do_my_homework):\n",
    "    print(\"I can go out\")\n",
    "if (True):\n",
    "    print(\"we are going to applebee's\")"
   ]
  },
  {
   "cell_type": "code",
   "execution_count": 32,
   "metadata": {},
   "outputs": [
    {
     "output_type": "stream",
     "name": "stdout",
     "text": [
      "I have to stay home\n"
     ]
    }
   ],
   "source": [
    "# Create an if else statement\n",
    "I_do_my_homework = False \n",
    "if I_do_my_homework:\n",
    "    print(\"I can go out\")\n",
    "else:\n",
    "    print(\"I have to stay home\")"
   ]
  },
  {
   "cell_type": "code",
   "execution_count": 47,
   "metadata": {},
   "outputs": [
    {
     "output_type": "stream",
     "name": "stdout",
     "text": [
      "That works better\n"
     ]
    }
   ],
   "source": [
    "# Create an if elif else statement\n",
    "x = 5\n",
    "y = 3\n",
    "if (x+y > 15):\n",
    "    print(\"It works\")\n",
    "elif (x+y < 15):\n",
    "    print(\"That works better\")\n",
    "else:\n",
    "    print(\"Thats the answer\")\n",
    "\n",
    "    "
   ]
  },
  {
   "cell_type": "code",
   "execution_count": 51,
   "metadata": {},
   "outputs": [
    {
     "output_type": "stream",
     "name": "stdout",
     "text": [
      "0\n1\n2\n3\n4\n5\n6\n7\n8\n"
     ]
    }
   ],
   "source": [
    "# Create a for loop using range(). Go from 0 to 9. Print out each number.\n",
    "for value in range(0,9):\n",
    "    print(value)"
   ]
  },
  {
   "cell_type": "code",
   "execution_count": 56,
   "metadata": {},
   "outputs": [
    {
     "output_type": "stream",
     "name": "stdout",
     "text": [
      "Yellow\nGreen\nPurple\nMagenta\nBlue\nRed\nLilac\n"
     ]
    }
   ],
   "source": [
    "# Create a for loop iterating through this list and printing out the value.\n",
    "arr = ['Blue', 'Yellow', 'Red', 'Green', 'Purple', 'Magenta', 'Lilac']\n",
    "\n",
    "# Get the length of the list above and print it.\n",
    "colors = {\"Blue\", \"Yellow\", \"Red\", \"Green\", \"Purple\", \"Magenta\", \"Lilac\"}\n",
    "for items in colors:\n",
    "    print(items)"
   ]
  },
  {
   "cell_type": "code",
   "execution_count": 67,
   "metadata": {
    "tags": []
   },
   "outputs": [
    {
     "output_type": "stream",
     "name": "stdout",
     "text": [
      "1\n2\n3\n4\n5\n6\n"
     ]
    }
   ],
   "source": [
    "# Create a while loop that ends after 6 times through. Print something for each pass.\n",
    "i = 1\n",
    "while i < 10:\n",
    "    print(i)\n",
    "    if i == 6:\n",
    "        break \n",
    "    i += 1"
   ]
  },
  {
   "cell_type": "code",
   "execution_count": 81,
   "metadata": {
    "tags": []
   },
   "outputs": [
    {
     "output_type": "stream",
     "name": "stdout",
     "text": [
      "10\n"
     ]
    }
   ],
   "source": [
    "# Create a function to add 2 numbers together. Print out the number\n",
    "x = 5\n",
    "y = 5\n",
    "print (x + y)"
   ]
  },
  {
   "cell_type": "code",
   "execution_count": 133,
   "metadata": {},
   "outputs": [
    {
     "output_type": "stream",
     "name": "stdout",
     "text": [
      "5 is odd\n"
     ]
    }
   ],
   "source": [
    "# Create a function that tells you if a number is odd or even and print the result.\n",
    "num = int(input(\"enter a number: \"))\n",
    "if (num % 2) == 0:\n",
    "    print(str(num) + \" is even\")\n",
    "else:\n",
    "    print(str(num) + \" is odd\")\n"
   ]
  },
  {
   "cell_type": "code",
   "execution_count": 234,
   "metadata": {},
   "outputs": [
    {
     "output_type": "stream",
     "name": "stdout",
     "text": [
      "My dogs name is Quonnie\nHer age is 2 years old\nHer weight is 60 pounds\n"
     ]
    }
   ],
   "source": [
    "# Initialize an instance of the following class. Use a variable to store the object and then call the info function to print out the attributes.\n",
    "\n",
    "class dog:\n",
    "    def __init__(self, weight: int, age: int, name: str):\n",
    "        self.name = name \n",
    "        self.age = age\n",
    "        self.weight = weight \n",
    "    def who_is_this(self):\n",
    "        print(\"My dogs name is \" + self.name)\n",
    "        print(\"Her age is \" + self.age)\n",
    "        print(\"Her weight is \" + self.weight)\n",
    "if __name__ == \"__main__\":\n",
    "    Gonf = dog(\"60 pounds\", \"2 years old\", \"Quonnie\")\n",
    "    Gonf.who_is_this()"
   ]
  },
  {
   "cell_type": "code",
   "execution_count": null,
   "metadata": {},
   "outputs": [],
   "source": []
  }
 ]
}