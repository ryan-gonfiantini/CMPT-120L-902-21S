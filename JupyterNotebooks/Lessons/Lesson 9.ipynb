{
 "cells": [
  {
   "cell_type": "markdown",
   "metadata": {},
   "source": [
    "# Introduction to Programming\n",
    "\n",
    "Topics for today will include:\n",
    "- List Comprehension Review\n",
    "- Typing Revisited\n",
    "- Object Oriented Programming\n",
    "    - Abstraction\n",
    "    - Encapsulation\n",
    "    - Inheritance\n",
    "    - Polymorphism\n",
    "- Building Modules\n",
    "- AMA, The Web Side, & Common Flask Misteps (2nd half of class)"
   ]
  },
  {
   "cell_type": "markdown",
   "metadata": {},
   "source": [
    "## List Comprehensions\n",
    "\n",
    "List comprehensions provide a very simple, and pythonic way to create lists. A very common use of this is to create lists based on some operation, so not only can you make concise lists, you can manipulate other lists much like the python functional built-ins that we covered previously. Let's take a look at some example syntax for list comprehensions:\n",
    "\n"
   ]
  },
  {
   "cell_type": "code",
   "execution_count": 4,
   "metadata": {},
   "outputs": [
    {
     "name": "stdout",
     "output_type": "stream",
     "text": [
      "\n",
      "Example 1: Simple list from 1 to 10\n",
      "----\n",
      "[0, 1, 2, 3, 4, 5, 6, 7, 8, 9]\n",
      "\n",
      "Example 2: Simple list from 1 to 10, but we want to add 1 to each element\n",
      "----\n",
      "[1, 2, 3, 4, 5, 6, 7, 8, 9, 10]\n",
      "\n",
      "Example 3: Simple list from 1 to 10, but only even numbers\n",
      "----\n",
      "[0, 2, 4, 6, 8]\n",
      "\n",
      "Example 4: Simple list from 1 to 10, but only even numbers\n",
      "----\n",
      "[[0, 0], [0, 1], [0, 2], [0, 3], [1, 0], [1, 1], [1, 2], [1, 3], [2, 0], [2, 1], [2, 2], [2, 3], [3, 0], [3, 1], [3, 2], [3, 3], [4, 0], [4, 1], [4, 2], [4, 3], [5, 0], [5, 1], [5, 2], [5, 3], [6, 0], [6, 1], [6, 2], [6, 3], [7, 0], [7, 1], [7, 2], [7, 3], [8, 0], [8, 1], [8, 2], [8, 3], [9, 0], [9, 1], [9, 2], [9, 3]]\n"
     ]
    }
   ],
   "source": [
    "#\n",
    "print(\"\\nExample 1: Simple list from 1 to 10\")\n",
    "print(\"----\")\n",
    "simple_list = [x for x in range(10)]\n",
    "print(simple_list)\n",
    "\n",
    "#\n",
    "print(\"\\nExample 2: Simple list from 1 to 10, but we want to add 1 to each element\")\n",
    "print(\"----\")\n",
    "simple_list = [x + 1 for x in range(10)]\n",
    "print(simple_list)\n",
    "\n",
    "#\n",
    "print(\"\\nExample 3: Simple list from 1 to 10, but only even numbers\")\n",
    "print(\"----\")\n",
    "simple_list = [x for x in range(10) if x % 2 == 0]\n",
    "print(simple_list)\n",
    "\n",
    "\n",
    "#\n",
    "print(\"\\nExample 4: Simple list from 1 to 10, but only even numbers\")\n",
    "print(\"----\")\n",
    "simple_list = [[x, y] for x in range(10) for y in range(4)]\n",
    "print(simple_list)\n"
   ]
  },
  {
   "cell_type": "markdown",
   "metadata": {},
   "source": [
    "# Typing\n",
    "\n",
    "## Dynamic Typing\n",
    "\n",
    "Python will always be a dynamically typed language (mainly).\n"
   ]
  },
  {
   "cell_type": "code",
   "execution_count": 5,
   "metadata": {},
   "outputs": [
    {
     "name": "stdout",
     "output_type": "stream",
     "text": [
      "3\n"
     ]
    }
   ],
   "source": [
    "one = 1\n",
    "two = 2\n",
    "print(one + two)"
   ]
  },
  {
   "cell_type": "code",
   "execution_count": 2,
   "metadata": {},
   "outputs": [
    {
     "ename": "TypeError",
     "evalue": "unsupported operand type(s) for +: 'int' and 'str'",
     "output_type": "error",
     "traceback": [
      "\u001b[0;31m---------------------------------------------------------------------------\u001b[0m",
      "\u001b[0;31mTypeError\u001b[0m                                 Traceback (most recent call last)",
      "\u001b[0;32m<ipython-input-2-48e2ef9464d7>\u001b[0m in \u001b[0;36m<module>\u001b[0;34m\u001b[0m\n\u001b[1;32m      1\u001b[0m \u001b[0mone\u001b[0m \u001b[0;34m=\u001b[0m \u001b[0;36m1\u001b[0m\u001b[0;34m\u001b[0m\u001b[0;34m\u001b[0m\u001b[0m\n\u001b[1;32m      2\u001b[0m \u001b[0mtwo\u001b[0m \u001b[0;34m=\u001b[0m \u001b[0;34m\"two\"\u001b[0m\u001b[0;34m\u001b[0m\u001b[0;34m\u001b[0m\u001b[0m\n\u001b[0;32m----> 3\u001b[0;31m \u001b[0mprint\u001b[0m \u001b[0;34m(\u001b[0m\u001b[0mone\u001b[0m \u001b[0;34m+\u001b[0m \u001b[0mtwo\u001b[0m\u001b[0;34m)\u001b[0m\u001b[0;34m\u001b[0m\u001b[0;34m\u001b[0m\u001b[0m\n\u001b[0m",
      "\u001b[0;31mTypeError\u001b[0m: unsupported operand type(s) for +: 'int' and 'str'"
     ]
    }
   ],
   "source": [
    "one = 1\n",
    "two = \"two\"\n",
    "print (one + two)"
   ]
  },
  {
   "cell_type": "code",
   "execution_count": 4,
   "metadata": {},
   "outputs": [
    {
     "data": {
      "text/plain": "str"
     },
     "execution_count": 4,
     "metadata": {},
     "output_type": "execute_result"
    }
   ],
   "source": [
    "thing = \"hello\"\n",
    "type(thing)"
   ]
  },
  {
   "cell_type": "code",
   "execution_count": 5,
   "metadata": {},
   "outputs": [
    {
     "data": {
      "text/plain": "float"
     },
     "execution_count": 5,
     "metadata": {},
     "output_type": "execute_result"
    }
   ],
   "source": [
    "thing = 3.14159\n",
    "type(thing)"
   ]
  },
  {
   "cell_type": "markdown",
   "metadata": {},
   "source": [
    "## Type Hints\n",
    "\n",
    "Using Type Hints in Python, we can infer types when defining arguments for a function."
   ]
  },
  {
   "cell_type": "code",
   "execution_count": 7,
   "metadata": {},
   "outputs": [
    {
     "name": "stdout",
     "output_type": "stream",
     "text": [
      "ooooooo Welcome To The Python On Z Course! ooooooo\n"
     ]
    }
   ],
   "source": [
    "def headline(text, align=True):\n",
    "    if align:\n",
    "        return f\"{text.title()}\\n{'-' * len(text)}\"\n",
    "    else:\n",
    "        return f\" {text.title()} \".center(50, \"o\")\n",
    "\n",
    "print(headline(\"Welcome to the Python on z Course!\", False))"
   ]
  },
  {
   "cell_type": "code",
   "execution_count": 10,
   "metadata": {},
   "outputs": [
    {
     "name": "stdout",
     "output_type": "stream",
     "text": [
      "Welcome To The Python On Z Course!\n",
      "----------------------------------\n"
     ]
    }
   ],
   "source": [
    "def headline(text: str, align: bool = True) -> str:\n",
    "    if align:\n",
    "        return f\"{text.title()}\\n{'-' * len(text)}\"\n",
    "    else:\n",
    "        return f\" {text.title()} \".center(50, \"o\")\n",
    "\n",
    "print(headline(\"Welcome to the Python on z Course!\"))"
   ]
  },
  {
   "cell_type": "code",
   "execution_count": 12,
   "metadata": {},
   "outputs": [
    {
     "name": "stdout",
     "output_type": "stream",
     "text": [
      "Welcome To The Python On Z Course!\n",
      "----------------------------------\n"
     ]
    }
   ],
   "source": [
    "print(headline(\"Welcome to the Python on z Course!\", align=\"left\"))"
   ]
  },
  {
   "cell_type": "markdown",
   "metadata": {},
   "source": [
    "# Classes & OOP\n",
    "---\n",
    "\n",
    "The concept of classes is not a unique facet of Python. That being said Python classes are the same as other languages for the most part. \n",
    "\n",
    "Python tries it's best to implement classes without altering the syntax too much. That being said, Python's class structure is a mixture of C++ and Modula-3. Python inculdes all of the basic things that you expect to have in an object oriented language. Inheritance, the ability to override functions of the base classes or classes in general, as well as the ability to use those functions outside of initializing a class. Classes also partake in the dynamic attributes of Python meaning that they're created at runtime and can be modified after they're created. \n",
    "\n",
    "**NOTE**: *Python doesn't have private instance variables so some consider Python to not be truly object oriented. There are measures that can be taken that remedy this issues and we'll touch on it in a bit*\n",
    "\n",
    "OOP in Python\n"
   ]
  },
  {
   "cell_type": "code",
   "execution_count": 13,
   "metadata": {},
   "outputs": [
    {
     "name": "stdout",
     "output_type": "stream",
     "text": [
      "True\n"
     ]
    }
   ],
   "source": [
    "class Mammal():\n",
    "    # Shared across all instances of the class.\n",
    "    isMammal = True\n",
    "\n",
    "dog = Mammal()\n",
    "print(dog.isMammal)"
   ]
  },
  {
   "cell_type": "markdown",
   "metadata": {},
   "source": [
    "## Abstraction\n",
    "Abstraction means using simple things to represent complexity. We all know how to turn the TV on, but we don’t need to know how it works in order to enjoy it. In Java, abstraction means simple things like objects, classes, and variables represent more complex underlying code and data. This is important because it lets avoid repeating the same work multiple times.\n",
    "\n",
    "## Encapsulation\n",
    "Encapsulation. This is the practice of keeping fields within a class private, then providing access to them via public methods. It’s a protective barrier that keeps the data and code safe within the class itself. This way, we can re-use objects like code components or variables without allowing open access to the data system-wide.\n",
    "\n",
    "## Inheritance\n",
    "Inheritance. This is a special feature of Object Oriented Programming in Java. It lets programmers create new classes that share some of the attributes of existing classes. This lets us build on previous work without reinventing the wheel.\n",
    "\n",
    "## Polymorphism\n",
    "Polymorphism. This Java OOP concept lets programmers use the same word to mean different things in different contexts. One form of polymorphism in Java is method overloading. That’s when different meanings are implied by the code itself. The other form is method overriding. That’s when the different meanings are implied by the values of the supplied variables. See more on this below."
   ]
  },
  {
   "cell_type": "markdown",
   "metadata": {},
   "source": [
    "### Ternary Operator\n",
    "---\n",
    "Quick Context Switch! \n",
    "\n",
    "Just as a subsection as we're about to use a ternary operator in the next section. Here is how ternary operators work in Python. \n",
    "\n",
    "For those unfamiliar with ternary operators, it's just a short hand for conditionals. This often is used for inline decisions that aren't very complex\n",
    "\n",
    "```\n",
    "value_if_true if condition else value_if_false\n",
    "```\n",
    "\n",
    "There is also a short hand for the short hand. \n",
    "\n",
    "```\n",
    "True or \"Some other action\"\n",
    "# Or\n",
    "False or \"Some other action\"\n",
    "```"
   ]
  },
  {
   "cell_type": "code",
   "execution_count": 1,
   "metadata": {},
   "outputs": [
    {
     "name": "stdout",
     "output_type": "stream",
     "text": [
      "I can bake a pie\n"
     ]
    }
   ],
   "source": [
    "has_fruit = True\n",
    "\n",
    "print(\"I can bake a pie\" if has_fruit else \"Welp, looks like we're not having pie today.\")"
   ]
  },
  {
   "cell_type": "markdown",
   "metadata": {},
   "source": [
    "Here's the shorthand ternary example from the Python Doc."
   ]
  },
  {
   "cell_type": "code",
   "execution_count": 2,
   "metadata": {},
   "outputs": [
    {
     "name": "stdout",
     "output_type": "stream",
     "text": [
      "No data returned\n"
     ]
    }
   ],
   "source": [
    "# output = \"This is the best class in the world. The students are so great.\"\n",
    "output = None\n",
    "msg = output or \"No data returned\"\n",
    "print(msg)"
   ]
  },
  {
   "cell_type": "code",
   "execution_count": 6,
   "metadata": {},
   "outputs": [
    {
     "name": "stdout",
     "output_type": "stream",
     "text": [
      "This person's name is Aaron Kippins\n",
      "This person's weight is 225 pounds\n",
      "This person's height is 70 inches\n",
      "Is this person a mammal?: Yes\n",
      "This person's name is Sally Sallerson\n",
      "This person's weight is 123 pounds\n",
      "This person's height is 54 inches\n",
      "Is this person a mammal?: Yes\n",
      "This person's name is Christie Smith\n",
      "This person's weight is 132 pounds\n",
      "This person's height is 60 inches\n",
      "Is this person a mammal?: Yes\n",
      "This person's name is Paul George\n",
      "This person's weight is 170 pounds\n",
      "This person's height is 84 inches\n",
      "Is this person a mammal?: Yes\n"
     ]
    },
    {
     "ename": "AttributeError",
     "evalue": "'Person' object has no attribute 'ssn'",
     "output_type": "error",
     "traceback": [
      "\u001b[0;31m---------------------------------------------------------------------------\u001b[0m",
      "\u001b[0;31mAttributeError\u001b[0m                            Traceback (most recent call last)",
      "\u001b[0;32m<ipython-input-6-3dcbace5563c>\u001b[0m in \u001b[0;36m<module>\u001b[0;34m\u001b[0m\n\u001b[1;32m     26\u001b[0m \u001b[0mChristie\u001b[0m\u001b[0;34m.\u001b[0m\u001b[0minfo\u001b[0m\u001b[0;34m(\u001b[0m\u001b[0;34m)\u001b[0m\u001b[0;34m\u001b[0m\u001b[0;34m\u001b[0m\u001b[0m\n\u001b[1;32m     27\u001b[0m \u001b[0mPaul\u001b[0m\u001b[0;34m.\u001b[0m\u001b[0minfo\u001b[0m\u001b[0;34m(\u001b[0m\u001b[0;34m)\u001b[0m\u001b[0;34m\u001b[0m\u001b[0;34m\u001b[0m\u001b[0m\n\u001b[0;32m---> 28\u001b[0;31m \u001b[0mprint\u001b[0m\u001b[0;34m(\u001b[0m\u001b[0mSally\u001b[0m\u001b[0;34m.\u001b[0m\u001b[0mssn\u001b[0m\u001b[0;34m)\u001b[0m\u001b[0;34m\u001b[0m\u001b[0;34m\u001b[0m\u001b[0m\n\u001b[0m\u001b[1;32m     29\u001b[0m \u001b[0;34m\u001b[0m\u001b[0m\n\u001b[1;32m     30\u001b[0m \u001b[0;34m\u001b[0m\u001b[0m\n",
      "\u001b[0;31mAttributeError\u001b[0m: 'Person' object has no attribute 'ssn'"
     ]
    }
   ],
   "source": [
    "class Mammal():\n",
    "    # Will be distributed as an instance variable. We have to use the super() method to get it though. This also will no longer persist across all instances of the class. \n",
    "    def __init__(self):\n",
    "        self.isMammal = True\n",
    "\n",
    "class Person(Mammal):\n",
    "    def __init__(self, weight: int, height: int, name: str, ssn: str = \"000-00-0000\"):\n",
    "        super().__init__()\n",
    "        self.weight = weight\n",
    "        self.height = height\n",
    "        self.name = name\n",
    "        self.__ssn = ssn\n",
    "\n",
    "    def info(self):\n",
    "        print(\"This person's name is \" + self.name)\n",
    "        print(\"This person's weight is \" + str(self.weight) + \" pounds\")\n",
    "        print(\"This person's height is \" + str(self.height) + \" inches\")\n",
    "        print(\"Is this person a mammal?: \" + \"Yes\" if self.isMammal else \"No\")\n",
    "    \n",
    "Kipp = Person(225, 70, \"Aaron Kippins\")\n",
    "Sally = Person(123, 54, \"Sally Sallerson\")\n",
    "Christie = Person(132, 60, \"Christie Smith\")\n",
    "Paul = Person(170, 84, \"Paul George\", \"123-45-6789\")\n",
    "Kipp.info()\n",
    "Sally.info()\n",
    "Christie.info()\n",
    "Paul.info()\n",
    "print(Sally.ssn)\n",
    "\n",
    "\n",
    "# if __name__ == \"__main__\":\n",
    "#     Kipp = Person(225, 70, \"Aaron Kippins\")\n",
    "#     Kipp.info()"
   ]
  },
  {
   "cell_type": "markdown",
   "metadata": {},
   "source": [
    "Before I mentioned that we don't have private instance variables in Python. There is a convention that is followed with Python that sort of gives us an equivalant. \n",
    "\n",
    "In Python underscores have a lot of meaning in different places. For functions and variables it typically follows the following pattern.\n",
    "\n",
    "**No Underscores: Public**\n",
    "We've seen this a lot in our examples so far."
   ]
  },
  {
   "cell_type": "code",
   "execution_count": 7,
   "metadata": {},
   "outputs": [
    {
     "name": "stdout",
     "output_type": "stream",
     "text": [
      "10\n",
      "10\n",
      "100\n"
     ]
    }
   ],
   "source": [
    "class Quadrilateral(object):\n",
    "    def __init__(self):\n",
    "        self.sides = 4\n",
    "\n",
    "class Parallelogram(Quadrilateral):\n",
    "    def __init__(self, width, height):\n",
    "        super().__init__()\n",
    "        self.width = width\n",
    "        self.height = height\n",
    "\n",
    "    def area(self):\n",
    "        return self.width * self.height\n",
    "\n",
    "class Rectangle(Parallelogram):\n",
    "    def __init__(self, width, height):\n",
    "        super().__init__(width, height)\n",
    "\n",
    "class Square(Rectangle):\n",
    "    def __init__(self, side):\n",
    "        super().__init__(side, side)\n",
    "\n",
    "blue = Square(10)\n",
    "print(blue.width)\n",
    "print(blue.height)\n",
    "print(blue.area())\n",
    "\n"
   ]
  },
  {
   "cell_type": "markdown",
   "metadata": {},
   "source": [
    "**One Underscores: Protected**\n",
    "This prevents access to the variable and methods unless it's from within a subclass"
   ]
  },
  {
   "cell_type": "code",
   "execution_count": 10,
   "metadata": {},
   "outputs": [
    {
     "name": "stdout",
     "output_type": "stream",
     "text": [
      "Love\n"
     ]
    }
   ],
   "source": [
    "class KrabbyPatty(object):\n",
    "    def __init__(self, ingredients: list):\n",
    "        self.ingredients = ingredients\n",
    "        self._secret_ingredient = \"Love\"\n",
    "\n",
    "\n",
    "class PrettyPatties(KrabbyPatty):\n",
    "    def __init__(self, ingredients):\n",
    "        super().__init__(ingredients)\n",
    "\n",
    "blue_burger = PrettyPatties([\"Sesame Seed Bun\", \"Burger Patties\", \"Lettuce\", \"Tomatoes\", \"Pickles\"])\n",
    "orange_burger = KrabbyPatty([\"Sesame Seed Bun\", \"Burger Patties\", \"Lettuce\", \"Tomatoes\", \"Pickles\"])\n",
    "# print(KrabbyPatty._secret_ingredient)\n",
    "# print(PrettyPatties._secret_ingredient)\n",
    "print(blue_burger._secret_ingredient)"
   ]
  },
  {
   "cell_type": "markdown",
   "metadata": {},
   "source": [
    "**Two Underscores: Private**\n",
    "Attempts to touch the variables from outside the class will result in an AttributeError."
   ]
  },
  {
   "cell_type": "code",
   "execution_count": 13,
   "metadata": {},
   "outputs": [
    {
     "ename": "AttributeError",
     "evalue": "'PrettyPatties' object has no attribute '__secret_ingredient'",
     "output_type": "error",
     "traceback": [
      "\u001b[0;31m---------------------------------------------------------------------------\u001b[0m",
      "\u001b[0;31mAttributeError\u001b[0m                            Traceback (most recent call last)",
      "\u001b[0;32m<ipython-input-13-5b69e55120f7>\u001b[0m in \u001b[0;36m<module>\u001b[0;34m\u001b[0m\n\u001b[1;32m     10\u001b[0m \u001b[0;34m\u001b[0m\u001b[0m\n\u001b[1;32m     11\u001b[0m \u001b[0mblue_burger\u001b[0m \u001b[0;34m=\u001b[0m \u001b[0mPrettyPatties\u001b[0m\u001b[0;34m(\u001b[0m\u001b[0;34m[\u001b[0m\u001b[0;34m\"Sesame Seed Bun\"\u001b[0m\u001b[0;34m,\u001b[0m \u001b[0;34m\"Burger Patties\"\u001b[0m\u001b[0;34m,\u001b[0m \u001b[0;34m\"Lettuce\"\u001b[0m\u001b[0;34m,\u001b[0m \u001b[0;34m\"Tomatoes\"\u001b[0m\u001b[0;34m,\u001b[0m \u001b[0;34m\"Pickles\"\u001b[0m\u001b[0;34m]\u001b[0m\u001b[0;34m)\u001b[0m\u001b[0;34m\u001b[0m\u001b[0;34m\u001b[0m\u001b[0m\n\u001b[0;32m---> 12\u001b[0;31m \u001b[0mprint\u001b[0m\u001b[0;34m(\u001b[0m\u001b[0mblue_burger\u001b[0m\u001b[0;34m.\u001b[0m\u001b[0m__secret_ingredient\u001b[0m\u001b[0;34m)\u001b[0m\u001b[0;34m\u001b[0m\u001b[0;34m\u001b[0m\u001b[0m\n\u001b[0m\u001b[1;32m     13\u001b[0m \u001b[0;31m# print(KrabbyPatty.__secret_ingredient)\u001b[0m\u001b[0;34m\u001b[0m\u001b[0;34m\u001b[0m\u001b[0;34m\u001b[0m\u001b[0m\n\u001b[1;32m     14\u001b[0m \u001b[0;31m# print(PrettyPatties.__secret_ingredient)\u001b[0m\u001b[0;34m\u001b[0m\u001b[0;34m\u001b[0m\u001b[0;34m\u001b[0m\u001b[0m\n",
      "\u001b[0;31mAttributeError\u001b[0m: 'PrettyPatties' object has no attribute '__secret_ingredient'"
     ]
    }
   ],
   "source": [
    "class KrabbyPatty(object):\n",
    "    def __init__(self, ingredients: list):\n",
    "        self.ingredients = ingredients\n",
    "        self.__secret_ingredient = \"Love\"\n",
    "\n",
    "\n",
    "class PrettyPatties(KrabbyPatty):\n",
    "    def __init__(self, ingredients):\n",
    "        super().__init__(ingredients)\n",
    "\n",
    "blue_burger = PrettyPatties([\"Sesame Seed Bun\", \"Burger Patties\", \"Lettuce\", \"Tomatoes\", \"Pickles\"])\n",
    "print(blue_burger.__secret_ingredient)\n",
    "# print(KrabbyPatty.__secret_ingredient)\n",
    "# print(PrettyPatties.__secret_ingredient)"
   ]
  },
  {
   "cell_type": "markdown",
   "metadata": {},
   "source": [
    "**Two Underscores Before and After: Magic Methods**\n",
    "These methods are called magic methods because you can use them to add all of the things that good classes do inherently. Bringing the magic to your classes."
   ]
  },
  {
   "cell_type": "code",
   "execution_count": 33,
   "metadata": {},
   "outputs": [
    {
     "name": "stdout",
     "output_type": "stream",
     "text": [
      "100\n",
      "True\n",
      "25.0\n",
      "3\n"
     ]
    }
   ],
   "source": [
    "class Quadrilateral(object):\n",
    "    def __init__(self):\n",
    "        self.sides = 4\n",
    "\n",
    "class Parallelogram(Quadrilateral):\n",
    "    def __init__(self, width, height):\n",
    "        super().__init__()\n",
    "        self.width = width\n",
    "        self.height = height\n",
    "\n",
    "    def __eq__(self, other):\n",
    "        widths_equal = self.width == other.width\n",
    "        heights_equal = self.height == other.height\n",
    "        return widths_equal and heights_equal\n",
    "            \n",
    "    def area(self):\n",
    "        return self.width * self.height\n",
    "\n",
    "class Rectangle(Parallelogram):\n",
    "    def __init__(self, width, height):\n",
    "        super().__init__(width, height)\n",
    "\n",
    "class Square(Rectangle):\n",
    "    def __init__(self, side):\n",
    "        super().__init__(side, side)\n",
    "\n",
    "class Triangle(Parallelogram):\n",
    "    def __init__(self, base, height):\n",
    "        super().__init__(base, height)\n",
    "        self.sides = 3\n",
    "        self.base = self.width\n",
    "\n",
    "    def area(self):\n",
    "        return .5 * (self.height * self.base) \n",
    "\n",
    "blue = Square(10)\n",
    "green = Rectangle(10, 10)\n",
    "yellow = Triangle(10, 5)\n",
    "\n",
    "print(blue.area())\n",
    "print(blue == green)\n",
    "print(yellow.area())\n",
    "print(yellow.sides)\n"
   ]
  },
  {
   "cell_type": "markdown",
   "metadata": {},
   "source": [
    "## Abstraction\n",
    "\n",
    "Abstraction is not readily available in Python, but it can be implemented by utilizing the Abstract Base Classes (ABC) module:"
   ]
  },
  {
   "cell_type": "code",
   "execution_count": 48,
   "metadata": {},
   "outputs": [
    {
     "name": "stdout",
     "output_type": "stream",
     "text": [
      "I have 3 sides\n",
      "I have 4 sides\n",
      "I have 5 sides\n",
      "I have 6 sides\n"
     ]
    }
   ],
   "source": [
    "# Python program showing \n",
    "# abstract base class work \n",
    "\n",
    "from abc import ABC, abstractmethod \n",
    "\n",
    "class Polygon(ABC): \n",
    "\n",
    "\t# abstract method \n",
    "\tdef num_sides(self): \n",
    "\t\tpass\n",
    "\n",
    "class Triangle(Polygon): \n",
    "\n",
    "\t# overriding abstract method \n",
    "\tdef num_sides(self): \n",
    "\t\tprint(\"I have 3 sides\") \n",
    "\n",
    "class Pentagon(Polygon): \n",
    "\n",
    "\t# overriding abstract method \n",
    "\tdef num_sides(self): \n",
    "\t\tprint(\"I have 5 sides\") \n",
    "\n",
    "class Hexagon(Polygon): \n",
    "\n",
    "\t# overriding abstract method \n",
    "\tdef num_sides(self): \n",
    "\t\tprint(\"I have 6 sides\") \n",
    "\n",
    "class Quadrilateral(Polygon): \n",
    "\n",
    "\t# overriding abstract method \n",
    "\tdef num_sides(self): \n",
    "\t\tprint(\"I have 4 sides\") \n",
    "\n",
    "# Driver code \n",
    "pizza = Triangle() \n",
    "pizza.num_sides() \n",
    "\n",
    "square = Quadrilateral() \n",
    "square.num_sides() \n",
    "\n",
    "penta = Pentagon() \n",
    "penta.num_sides() \n",
    "\n",
    "stop_sign = Hexagon() \n",
    "stop_sign.num_sides() \n"
   ]
  },
  {
   "cell_type": "markdown",
   "metadata": {},
   "source": [
    "## Building Modules\n",
    "___"
   ]
  },
  {
   "cell_type": "code",
   "execution_count": null,
   "metadata": {},
   "outputs": [],
   "source": []
  }
 ],
 "metadata": {
  "kernelspec": {
   "display_name": "Python 3.6.10 64-bit ('3.6.10': pyenv)",
   "name": "python3610jvsc74a57bd080a400c01c78118b2ce1d50fe9f9ac89d81e3c1779f27e63b011330df7cd96a3"
  },
  "language_info": {
   "codemirror_mode": {
    "name": "ipython",
    "version": 3
   },
   "file_extension": ".py",
   "mimetype": "text/x-python",
   "name": "python",
   "nbconvert_exporter": "python",
   "pygments_lexer": "ipython3",
   "version": "3.6.10"
  },
  "orig_nbformat": 2
 },
 "nbformat": 4,
 "nbformat_minor": 2
}