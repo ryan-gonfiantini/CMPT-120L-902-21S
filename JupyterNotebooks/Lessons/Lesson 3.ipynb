{
 "metadata": {
  "language_info": {
   "codemirror_mode": {
    "name": "ipython",
    "version": 3
   },
   "file_extension": ".py",
   "mimetype": "text/x-python",
   "name": "python",
   "nbconvert_exporter": "python",
   "pygments_lexer": "ipython3",
   "version": "3.8.5-final"
  },
  "orig_nbformat": 2,
  "kernelspec": {
   "name": "Python 3.8.5 64-bit",
   "display_name": "Python 3.8.5 64-bit",
   "metadata": {
    "interpreter": {
     "hash": "aee8b7b246df8f9039afb4144a1f6fd8d2ca17a180786b69acc140d282b71a49"
    }
   }
  }
 },
 "nbformat": 4,
 "nbformat_minor": 2,
 "cells": [
  {
   "source": [
    "# Introduction to Programming\n",
    "\n",
    "Topics for today will include:\n",
    "- Conditionals\n",
    "- Loops\n",
    "- Objects\n",
    "- Simple HTML\n",
    "- Intro to CSS\n"
   ],
   "cell_type": "markdown",
   "metadata": {}
  },
  {
   "cell_type": "markdown",
   "metadata": {},
   "source": [
    "## Conditionals\n",
    "---\n",
    "Conditionals are what we often use to make decisions. This creates forks in your code where depending on the scenario that your code state is in you can make a decision and take a certain path. Something that comes along with conditionals are our comparison symbols.\n",
    "\n",
    "### Comparison Operators\n",
    "---\n",
    "We will use comparison operators often. These will help us in decision making scenarios. Luckily, they're mostly operators that we're already familar with. \n",
    "\n",
    "First is the easiest `==` this operator is used to test equality between the value of 2 things.\n"
   ]
  },
  {
   "cell_type": "code",
   "execution_count": null,
   "metadata": {},
   "outputs": [],
   "source": [
    "is_equal = (10 == 10)\n",
    "is_not_equal = (10 == 12)"
   ]
  },
  {
   "cell_type": "markdown",
   "metadata": {},
   "source": [
    "Next up is `!=` this is the oppositite `!` is the not symbol in python and is used to negate things."
   ]
  },
  {
   "cell_type": "code",
   "execution_count": null,
   "metadata": {},
   "outputs": [],
   "source": [
    "is_true = (10 != 12)\n",
    "is_false = (10 != 10)"
   ]
  },
  {
   "cell_type": "markdown",
   "metadata": {},
   "source": [
    "Before straying too far away `is` is another equality operator BUT they don't compare things the same as `==` the `is` operator is typically used to compare objects. It does this by comparing the id's of things. We'll discuss this more later on. For now we won't be using this much. "
   ]
  },
  {
   "cell_type": "code",
   "execution_count": 5,
   "metadata": {
    "tags": []
   },
   "outputs": [
    {
     "output_type": "stream",
     "name": "stdout",
     "text": "4439644720\n4439644720\n"
    }
   ],
   "source": [
    "a = 1\n",
    "b = 1\n",
    "print(id(a))\n",
    "print(id(b))\n",
    "is_true = (a is b)"
   ]
  },
  {
   "cell_type": "markdown",
   "metadata": {},
   "source": [
    "Here we have the less than operator that works the same way that it does in math `<`"
   ]
  },
  {
   "cell_type": "code",
   "execution_count": null,
   "metadata": {},
   "outputs": [],
   "source": [
    "a = 1\n",
    "b = 2\n",
    "is_true = (a < b)"
   ]
  },
  {
   "cell_type": "markdown",
   "metadata": {},
   "source": [
    "Here we have the greater than operator that works the same way that it does in math `>`"
   ]
  },
  {
   "cell_type": "code",
   "execution_count": null,
   "metadata": {},
   "outputs": [],
   "source": [
    "a = 2\n",
    "b = 1\n",
    "is_true = (a > b)"
   ]
  },
  {
   "cell_type": "markdown",
   "metadata": {},
   "source": [
    "This is how less than equal to is represented `<=` if you flip the symbols it will not be registered."
   ]
  },
  {
   "cell_type": "code",
   "execution_count": null,
   "metadata": {},
   "outputs": [],
   "source": [
    "a = 1\n",
    "b = 1\n",
    "c = 0\n",
    "is_true = (a <= b)"
   ]
  },
  {
   "cell_type": "markdown",
   "metadata": {},
   "source": [
    "This is how less than equal to is represented `>=` if you flip the symbols it will not be registered."
   ]
  },
  {
   "cell_type": "code",
   "execution_count": null,
   "metadata": {},
   "outputs": [],
   "source": [
    "a = 1\n",
    "b = 1\n",
    "c = 2\n",
    "is_true = (a >= b)"
   ]
  },
  {
   "cell_type": "markdown",
   "metadata": {},
   "source": [
    "### Chaining and Modifying Conditionals\n",
    "---\n",
    "Sometimes we have instances where we need multiple things to be in order so that we can proceed down a path in our code. For instance maybe we have a calculator that only takes positive numbers. So before we go along and try and add the number we check to make sure that we have two numbers and that they're positive. Then we can proceed. \n",
    "\n",
    "### Our Modifiers\n",
    "So first up we have `and` used when you need at least 2 scenarios to happen before you proceed."
   ]
  },
  {
   "cell_type": "code",
   "execution_count": 6,
   "metadata": {
    "tags": []
   },
   "outputs": [
    {
     "output_type": "stream",
     "name": "stdout",
     "text": "I can make a grilled cheese because the scenario was true\n"
    }
   ],
   "source": [
    "has_bread = True\n",
    "has_cheese = True\n",
    "if has_bread and has_cheese:\n",
    "    print(\"I can make a grilled cheese because the scenario was true\")"
   ]
  },
  {
   "cell_type": "markdown",
   "metadata": {},
   "source": [
    "Next up we have `or` there are times where if we have one thing or another we can proceed with the same result and this is for scenarios like that."
   ]
  },
  {
   "cell_type": "code",
   "execution_count": 7,
   "metadata": {
    "tags": []
   },
   "outputs": [
    {
     "output_type": "stream",
     "name": "stdout",
     "text": "I can make a pie because I have fruit\n"
    }
   ],
   "source": [
    "has_cherries = False\n",
    "has_apples = True\n",
    "if has_cherries or has_apples:\n",
    "    print(\"I can make a pie because I have fruit\")"
   ]
  },
  {
   "cell_type": "markdown",
   "metadata": {},
   "source": [
    "Finally we have `not` this is similar to `!`. This is usually used with the `is` operator. This can be used in other scenarios though. "
   ]
  },
  {
   "cell_type": "code",
   "execution_count": 8,
   "metadata": {
    "tags": []
   },
   "outputs": [
    {
     "output_type": "stream",
     "name": "stdout",
     "text": "False\n"
    }
   ],
   "source": [
    "a = 1\n",
    "b = 2\n",
    "is_true = (a is not b)\n",
    "is_single = True\n",
    "is_single = not is_single\n",
    "print(is_single) "
   ]
  },
  {
   "cell_type": "markdown",
   "metadata": {},
   "source": [
    "### Truth Tables\n",
    "---\n",
    "So with the ability to negate and add on to our initial clauses we need to talk truth tables. This is a concept that implores the use of basic logic to figure out what the outcome of something would be. \n",
    "\n",
    "### Or Table\n",
    "---\n",
    "| OR     | True   | False   |\n",
    "| -----  | ------ | ------- |\n",
    "| True   | True   | True    |\n",
    "| False  | True   | False   |\n",
    "\n",
    "### And Table\n",
    "---\n",
    "| AND    | True   | False   |\n",
    "| -----  | ------ | ------- |\n",
    "| True   | True   | False   |\n",
    "| False  | False  | False   |\n",
    "\n",
    "<br>\n",
    "<br>\n",
    "<br>\n",
    "\n",
    "## Finally Here Are Our Conditionals\n",
    "---\n",
    "### If\n",
    "---\n",
    "Used primarily to say if something happened respond in this way. The way this is set up is our keyword, followed by our condition, capped with a colon. \n",
    "```\n",
    "if <condition>:\n",
    "    <do the following>\n",
    "\n",
    "In this scenario we're going to pretend we're Matt Ryan of the Atlanta Falcons in the 2018 Super Bowl."
   ]
  },
  {
   "cell_type": "code",
   "execution_count": 1,
   "metadata": {
    "tags": []
   },
   "outputs": [
    {
     "output_type": "stream",
     "name": "stdout",
     "text": "We're going to Disneyland!\nWe're going to Marist!\n"
    }
   ],
   "source": [
    "won_superbowl = True\n",
    "if won_superbowl:\n",
    "    print(\"We're going to Disneyland!\")\n",
    "if True:\n",
    "    print(\"We're going to Marist!\")"
   ]
  },
  {
   "cell_type": "markdown",
   "metadata": {},
   "source": [
    "### Else\n",
    "---\n",
    "Sometimes we need a case if that first thing doesn't happen. "
   ]
  },
  {
   "cell_type": "code",
   "execution_count": 10,
   "metadata": {
    "tags": []
   },
   "outputs": [
    {
     "output_type": "stream",
     "name": "stdout",
     "text": "We blew a 28-3 lead... The world is gonna hate me.\n"
    }
   ],
   "source": [
    "won_superbowl = False\n",
    "if won_superbowl:\n",
    "    print(\"We're going to Disneyland!\")\n",
    "else:\n",
    "    print(\"We blew a 28-3 lead... The world is gonna hate me.\")"
   ]
  },
  {
   "cell_type": "markdown",
   "metadata": {},
   "source": [
    "### Elif\n",
    "---\n",
    "Then sometimes we need to have a second plan just in case things are still salvagable. Elif operates similar to if."
   ]
  },
  {
   "cell_type": "code",
   "execution_count": 12,
   "metadata": {
    "tags": []
   },
   "outputs": [
    {
     "output_type": "stream",
     "name": "stdout",
     "text": "We blew a 28-3 lead... The world is gonna hate me.\n"
    }
   ],
   "source": [
    "won_superbowl = False\n",
    "sponsored_by_disney = True\n",
    "were_not_terrible_people = False\n",
    "if won_superbowl:\n",
    "    print(\"We're going to Disneyland!\")\n",
    "elif sponsored_by_disney and were_not_terrible_people:\n",
    "    print(\"We're going anyways. I'll just hide my face.\")\n",
    "else:\n",
    "    print(\"We blew a 28-3 lead... The world is gonna hate me.\")"
   ]
  },
  {
   "cell_type": "markdown",
   "metadata": {},
   "source": [
    "## Loops\n",
    "---\n",
    "Loops are a useful too that we have for scenarios that we need to do something to a set of objects, we need to do something for a set amount of times, or we need to do something for a non specifyable amount of time. \n",
    "\n",
    "We have 3 ways that we can do this. 2 with for loops and 1 with a while loop.\n",
    "\n",
    "### For\n",
    "---\n",
    "For loops are set up with the keyword for, followed by a temporary variable name, the keyword in, then the list that we're pulling values from. We can get that list a few ways. The two main ones that we're going to focus on are a premade list. Then the other is a temporary list created by a function. \n",
    "\n",
    "The for loop will run while it has values to parse through.\n"
   ]
  },
  {
   "cell_type": "code",
   "execution_count": 14,
   "metadata": {
    "tags": []
   },
   "outputs": [
    {
     "output_type": "stream",
     "name": "stdout",
     "text": "Red\nOrange\nYellow\nGreen\nBlue\nIndigo\nViolet\n"
    }
   ],
   "source": [
    "# Premade List\n",
    "rainbow = [\"Red\", \"Orange\", \"Yellow\", \"Green\", \"Blue\", \"Indigo\", \"Violet\"]\n",
    "\n",
    "for item in rainbow:\n",
    "    print(item)"
   ]
  },
  {
   "cell_type": "markdown",
   "metadata": {},
   "source": [
    "We can also use a function to give us a temporary list to pull from. We can also do some cool things with the lists that we make. "
   ]
  },
  {
   "cell_type": "code",
   "execution_count": 15,
   "metadata": {
    "tags": []
   },
   "outputs": [
    {
     "output_type": "stream",
     "name": "stdout",
     "text": "0\n1\n2\n3\n4\n5\n6\n7\n8\n9\n"
    }
   ],
   "source": [
    "for value in range(10):\n",
    "    print(value)"
   ]
  },
  {
   "cell_type": "code",
   "execution_count": 16,
   "metadata": {
    "tags": []
   },
   "outputs": [
    {
     "output_type": "stream",
     "name": "stdout",
     "text": "5\n6\n7\n8\n9\n"
    }
   ],
   "source": [
    "for value in range(5, 10):\n",
    "    print(value)"
   ]
  },
  {
   "cell_type": "code",
   "execution_count": 17,
   "metadata": {
    "tags": []
   },
   "outputs": [
    {
     "output_type": "stream",
     "name": "stdout",
     "text": "0\n2\n4\n6\n8\n10\n"
    }
   ],
   "source": [
    "for value in range(0, 11, 2):\n",
    "    print(value)"
   ]
  },
  {
   "cell_type": "markdown",
   "metadata": {},
   "source": [
    "### While\n",
    "---\n",
    "We also have while loops for when we have an indeterminable amount of time to loop for. That meaning we know we need to loop 4 times or loop 8 time. The while loop will run while it's condition is true. "
   ]
  },
  {
   "cell_type": "code",
   "execution_count": 20,
   "metadata": {
    "tags": []
   },
   "outputs": [
    {
     "output_type": "stream",
     "name": "stdout",
     "text": "We haven't found the secret number yet\nWe haven't found the secret number yet\nWe haven't found the secret number yet\nWe haven't found the secret number yet\nWe haven't found the secret number yet\nWe haven't found the secret number yet\nWe haven't found the secret number yet\nWe haven't found the secret number yet\nWe haven't found the secret number yet\nWe found the secret number, it was: 9\n"
    }
   ],
   "source": [
    "import random\n",
    "\n",
    "secret_number = random.randint(0, 10)\n",
    "\n",
    "position = 0\n",
    "\n",
    "while position != secret_number:\n",
    "    print(\"We haven't found the secret number yet\")\n",
    "    position += 1\n",
    "\n",
    "print(\"We found the secret number, it was:\", secret_number)"
   ]
  },
  {
   "cell_type": "code",
   "execution_count": 2,
   "metadata": {
    "tags": [
     "outputPrepend"
    ]
   },
   "outputs": [
    {
     "output_type": "stream",
     "name": "stdout",
     "text": "te loop\ninfinite loop\ninfinite loop\ninfinite loop\ninfinite loop\ninfinite loop\ninfinite loop\ninfinite loop\ninfinite loop\ninfinite loop\ninfinite loop\ninfinite loop\ninfinite loop\ninfinite loop\ninfinite loop\ninfinite loop\ninfinite loop\ninfinite loop\ninfinite loop\ninfinite loop\ninfinite loop\ninfinite loop\ninfinite loop\ninfinite loop\ninfinite loop\ninfinite loop\ninfinite loop\ninfinite loop\ninfinite loop\ninfinite loop\ninfinite loop\ninfinite loop\ninfinite loop\ninfinite loop\ninfinite loop\ninfinite loop\ninfinite loop\ninfinite loop\ninfinite loop\ninfinite loop\ninfinite loop\ninfinite loop\ninfinite loop\ninfinite loop\ninfinite loop\ninfinite loop\ninfinite loop\ninfinite loop\ninfinite loop\ninfinite loop\ninfinite loop\ninfinite loop\ninfinite loop\ninfinite loop\ninfinite loop\ninfinite loop\ninfinite loop\ninfinite loop\ninfinite loop\ninfinite loop\ninfinite loop\ninfinite loop\ninfinite loop\ninfinite loop\ninfinite loop\ninfinite loop\ninfinite loop\ninfinite loop\ninfinite loop\ninfinite loop\ninfinite loop\ninfinite loop\ninfinite loop\ninfinite loop\ninfinite loop\ninfinite loop\ninfinite loop\ninfinite loop\ninfinite loop\ninfinite loop\ninfinite loop\ninfinite loop\ninfinite loop\ninfinite loop\ninfinite loop\ninfinite loop\ninfinite loop\ninfinite loop\ninfinite loop\ninfinite loop\ninfinite loop\ninfinite loop\ninfinite loop\ninfinite loop\ninfinite loop\ninfinite loop\ninfinite loop\ninfinite loop\ninfinite loop\ninfinite loop\ninfinite loop\ninfinite loop\ninfinite loop\ninfinite loop\ninfinite loop\ninfinite loop\ninfinite loop\ninfinite loop\ninfinite loop\ninfinite loop\ninfinite loop\ninfinite loop\ninfinite loop\ninfinite loop\ninfinite loop\ninfinite loop\ninfinite loop\ninfinite loop\ninfinite loop\ninfinite loop\ninfinite loop\ninfinite loop\ninfinite loop\ninfinite loop\ninfinite loop\ninfinite loop\ninfinite loop\ninfinite loop\ninfinite loop\ninfinite loop\ninfinite loop\ninfinite loop\ninfinite loop\ninfinite loop\ninfinite loop\ninfinite loop\ninfinite loop\ninfinite loop\ninfinite loop\ninfinite loop\ninfinite loop\ninfinite loop\ninfinite loop\ninfinite loop\ninfinite loop\ninfinite loop\ninfinite loop\ninfinite loop\ninfinite loop\ninfinite loop\ninfinite loop\ninfinite loop\ninfinite loop\ninfinite loop\ninfinite loop\ninfinite loop\ninfinite loop\ninfinite loop\ninfinite loop\ninfinite loop\ninfinite loop\ninfinite loop\ninfinite loop\ninfinite loop\ninfinite loop\ninfinite loop\ninfinite loop\ninfinite loop\ninfinite loop\ninfinite loop\ninfinite loop\ninfinite loop\ninfinite loop\ninfinite loop\ninfinite loop\ninfinite loop\ninfinite loop\ninfinite loop\ninfinite loop\ninfinite loop\ninfinite loop\ninfinite loop\ninfinite loop\ninfinite loop\ninfinite loop\ninfinite loop\ninfinite loop\ninfinite loop\ninfinite loop\ninfinite loop\ninfinite loop\ninfinite loop\ninfinite loop\ninfinite loop\ninfinite loop\ninfinite loop\ninfinite loop\ninfinite loop\ninfinite loop\ninfinite loop\ninfinite loop\ninfinite loop\ninfinite loop\ninfinite loop\ninfinite loop\ninfinite loop\ninfinite loop\ninfinite loop\ninfinite loop\ninfinite loop\ninfinite loop\ninfinite loop\ninfinite loop\ninfinite loop\ninfinite loop\ninfinite loop\ninfinite loop\ninfinite loop\ninfinite loop\ninfinite loop\ninfinite loop\ninfinite loop\ninfinite loop\ninfinite loop\ninfinite loop\ninfinite loop\ninfinite loop\ninfinite loop\ninfinite loop\ninfinite loop\ninfinite loop\ninfinite loop\ninfinite loop\ninfinite loop\ninfinite loop\ninfinite loop\ninfinite loop\ninfinite loop\ninfinite loop\ninfinite loop\ninfinite loop\ninfinite loop\ninfinite loop\ninfinite loop\ninfinite loop\ninfinite loop\ninfinite loop\ninfinite loop\ninfinite loop\ninfinite loop\ninfinite loop\ninfinite loop\ninfinite loop\ninfinite loop\ninfinite loop\ninfinite loop\ninfinite loop\ninfinite loop\ninfinite loop\ninfinite loop\ninfinite loop\ninfinite loop\ninfinite loop\ninfinite loop\ninfinite loop\ninfinite loop\ninfinite loop\ninfinite loop\ninfinite loop\ninfinite loop\ninfinite loop\ninfinite loop\ninfinite loop\ninfinite loop\ninfinite loop\ninfinite loop\ninfinite loop\ninfinite loop\ninfinite loop\ninfinite loop\ninfinite loop\ninfinite loop\ninfinite loop\ninfinite loop\ninfinite loop\ninfinite loop\ninfinite loop\ninfinite loop\ninfinite loop\ninfinite loop\ninfinite loop\ninfinite loop\ninfinite loop\ninfinite loop\ninfinite loop\ninfinite loop\ninfinite loop\ninfinite loop\ninfinite loop\ninfinite loop\ninfinite loop\ninfinite loop\ninfinite loop\ninfinite loop\ninfinite loop\ninfinite loop\ninfinite loop\ninfinite loop\ninfinite loop\ninfinite loop\ninfinite loop\ninfinite loop\ninfinite loop\ninfinite loop\ninfinite loop\ninfinite loop\ninfinite loop\ninfinite loop\ninfinite loop\ninfinite loop\ninfinite loop\ninfinite loop\ninfinite loop\ninfinite loop\ninfinite loop\ninfinite loop\ninfinite loop\ninfinite loop\ninfinite loop\ninfinite loop\ninfinite loop\ninfinite loop\ninfinite loop\ninfinite loop\ninfinite loop\ninfinite loop\ninfinite loop\ninfinite loop\ninfinite loop\ninfinite loop\ninfinite loop\ninfinite loop\ninfinite loop\ninfinite loop\ninfinite loop\ninfinite loop\ninfinite loop\ninfinite loop\ninfinite loop\ninfinite loop\ninfinite loop\ninfinite loop\ninfinite loop\ninfinite loop\ninfinite loop\ninfinite loop\ninfinite loop\ninfinite loop\ninfinite loop\ninfinite loop\ninfinite loop\ninfinite loop\ninfinite loop\ninfinite loop\ninfinite loop\ninfinite loop\ninfinite loop\ninfinite loop\ninfinite loop\ninfinite loop\ninfinite loop\ninfinite loop\ninfinite loop\ninfinite loop\ninfinite loop\ninfinite loop\ninfinite loop\ninfinite loop\ninfinite loop\ninfinite loop\ninfinite loop\ninfinite loop\ninfinite loop\ninfinite loop\ninfinite loop\ninfinite loop\ninfinite loop\ninfinite loop\ninfinite loop\ninfinite loop\ninfinite loop\ninfinite loop\ninfinite loop\ninfinite loop\ninfinite loop\ninfinite loop\ninfinite loop\ninfinite loop\ninfinite loop\ninfinite loop\ninfinite loop\ninfinite loop\ninfinite loop\ninfinite loop\ninfinite loop\ninfinite loop\ninfinite loop\ninfinite loop\ninfinite loop\ninfinite loop\ninfinite loop\ninfinite loop\ninfinite loop\ninfinite loop\ninfinite loop\ninfinite loop\ninfinite loop\ninfinite loop\ninfinite loop\ninfinite loop\ninfinite loop\ninfinite loop\ninfinite loop\ninfinite loop\ninfinite loop\ninfinite loop\ninfinite loop\ninfinite loop\ninfinite loop\ninfinite loop\ninfinite loop\ninfinite loop\ninfinite loop\ninfinite loop\ninfinite loop\ninfinite loop\ninfinite loop\ninfinite loop\ninfinite loop\ninfinite loop\ninfinite loop\ninfinite loop\ninfinite loop\ninfinite loop\ninfinite loop\ninfinite loop\ninfinite loop\ninfinite loop\ninfinite loop\ninfinite loop\ninfinite loop\ninfinite loop\ninfinite loop\ninfinite loop\ninfinite loop\ninfinite loop\ninfinite loop\ninfinite loop\ninfinite loop\ninfinite loop\ninfinite loop\ninfinite loop\ninfinite loop\ninfinite loop\ninfinite loop\ninfinite loop\ninfinite loop\ninfinite loop\ninfinite loop\ninfinite loop\ninfinite loop\ninfinite loop\ninfinite loop\ninfinite loop\ninfinite loop\ninfinite loop\ninfinite loop\ninfinite loop\ninfinite loop\ninfinite loop\ninfinite loop\ninfinite loop\ninfinite loop\ninfinite loop\ninfinite loop\ninfinite loop\ninfinite loop\ninfinite loop\ninfinite loop\ninfinite loop\ninfinite loop\ninfinite loop\ninfinite loop\ninfinite loop\ninfinite loop\ninfinite loop\ninfinite loop\ninfinite loop\ninfinite loop\ninfinite loop\ninfinite loop\ninfinite loop\ninfinite loop\ninfinite loop\ninfinite loop\ninfinite loop\ninfinite loop\ninfinite loop\ninfinite loop\ninfinite loop\ninfinite loop\ninfinite loop\ninfinite loop\ninfinite loop\ninfinite loop\ninfinite loop\ninfinite loop\ninfinite loop\ninfinite loop\ninfinite loop\ninfinite loop\ninfinite loop\ninfinite loop\ninfinite loop\ninfinite loop\ninfinite loop\ninfinite loop\ninfinite loop\ninfinite loop\ninfinite loop\ninfinite loop\ninfinite loop\ninfinite loop\ninfinite loop\ninfinite loop\ninfinite loop\ninfinite loop\ninfinite loop\ninfinite loop\ninfinite loop\ninfinite loop\ninfinite loop\ninfinite loop\ninfinite loop\ninfinite loop\ninfinite loop\ninfinite loop\ninfinite loop\ninfinite loop\ninfinite loop\ninfinite loop\ninfinite loop\ninfinite loop\ninfinite loop\ninfinite loop\ninfinite loop\ninfinite loop\ninfinite loop\ninfinite loop\ninfinite loop\ninfinite loop\ninfinite loop\ninfinite loop\ninfinite loop\ninfinite loop\ninfinite loop\ninfinite loop\ninfinite loop\ninfinite loop\ninfinite loop\ninfinite loop\ninfinite loop\ninfinite loop\ninfinite loop\ninfinite loop\ninfinite loop\ninfinite loop\ninfinite loop\ninfinite loop\ninfinite loop\ninfinite loop\ninfinite loop\ninfinite loop\ninfinite loop\ninfinite loop\ninfinite loop\ninfinite loop\ninfinite loop\ninfinite loop\ninfinite loop\ninfinite loop\ninfinite loop\ninfinite loop\ninfinite loop\ninfinite loop\ninfinite loop\ninfinite loop\ninfinite loop\ninfinite loop\ninfinite loop\ninfinite loop\ninfinite loop\ninfinite loop\ninfinite loop\ninfinite loop\ninfinite loop\ninfinite loop\ninfinite loop\ninfinite loop\ninfinite loop\ninfinite loop\ninfinite loop\ninfinite loop\ninfinite loop\ninfinite loop\ninfinite loop\ninfinite loop\ninfinite loop\ninfinite loop\ninfinite loop\ninfinite loop\ninfinite loop\ninfinite loop\ninfinite loop\ninfinite loop\ninfinite loop\ninfinite loop\ninfinite loop\ninfinite loop\ninfinite loop\ninfinite loop\ninfinite loop\ninfinite loop\ninfinite loop\ninfinite loop\ninfinite loop\ninfinite loop\ninfinite loop\ninfinite loop\ninfinite loop\ninfinite loop\ninfinite loop\ninfinite loop\ninfinite loop\ninfinite loop\ninfinite loop\ninfinite loop\ninfinite loop\ninfinite loop\ninfinite loop\ninfinite loop\ninfinite loop\ninfinite loop\ninfinite loop\ninfinite loop\ninfinite loop\ninfinite loop\ninfinite loop\ninfinite loop\ninfinite loop\ninfinite loop\ninfinite loop\ninfinite loop\ninfinite loop\ninfinite loop\ninfinite loop\ninfinite loop\ninfinite loop\ninfinite loop\ninfinite loop\ninfinite loop\ninfinite loop\ninfinite loop\ninfinite loop\ninfinite loop\ninfinite loop\ninfinite loop\ninfinite loop\ninfinite loop\ninfinite loop\ninfinite loop\ninfinite loop\ninfinite loop\ninfinite loop\ninfinite loop\ninfinite loop\ninfinite loop\ninfinite loop\ninfinite loop\ninfinite loop\ninfinite loop\ninfinite loop\ninfinite loop\ninfinite loop\ninfinite loop\ninfinite loop\ninfinite loop\ninfinite loop\ninfinite loop\ninfinite loop\ninfinite loop\ninfinite loop\ninfinite loop\ninfinite loop\ninfinite loop\ninfinite loop\ninfinite loop\ninfinite loop\ninfinite loop\ninfinite loop\ninfinite loop\ninfinite loop\ninfinite loop\ninfinite loop\ninfinite loop\ninfinite loop\ninfinite loop\ninfinite loop\ninfinite loop\ninfinite loop\ninfinite loop\ninfinite loop\ninfinite loop\ninfinite loop\ninfinite loop\ninfinite loop\ninfinite loop\ninfinite loop\ninfinite loop\ninfinite loop\ninfinite loop\ninfinite loop\ninfinite loop\ninfinite loop\ninfinite loop\ninfinite loop\ninfinite loop\ninfinite loop\ninfinite loop\ninfinite loop\ninfinite loop\ninfinite loop\ninfinite loop\ninfinite loop\ninfinite loop\ninfinite loop\ninfinite loop\ninfinite loop\ninfinite loop\ninfinite loop\ninfinite loop\ninfinite loop\ninfinite loop\ninfinite loop\ninfinite loop\ninfinite loop\ninfinite loop\ninfinite loop\ninfinite loop\ninfinite loop\ninfinite loop\ninfinite loop\ninfinite loop\ninfinite loop\ninfinite loop\ninfinite loop\ninfinite loop\ninfinite loop\ninfinite loop\ninfinite loop\ninfinite loop\ninfinite loop\ninfinite loop\ninfinite loop\ninfinite loop\ninfinite loop\ninfinite loop\ninfinite loop\ninfinite loop\ninfinite loop\ninfinite loop\ninfinite loop\ninfinite loop\ninfinite loop\ninfinite loop\ninfinite loop\ninfinite loop\ninfinite loop\ninfinite loop\ninfinite loop\ninfinite loop\ninfinite loop\ninfinite loop\ninfinite loop\ninfinite loop\ninfinite loop\ninfinite loop\ninfinite loop\ninfinite loop\ninfinite loop\ninfinite loop\ninfinite loop\ninfinite loop\ninfinite loop\ninfinite loop\ninfinite loop\ninfinite loop\ninfinite loop\ninfinite loop\ninfinite loop\ninfinite loop\ninfinite loop\ninfinite loop\ninfinite loop\ninfinite loop\ninfinite loop\ninfinite loop\ninfinite loop\ninfinite loop\ninfinite loop\ninfinite loop\ninfinite loop\ninfinite loop\ninfinite loop\ninfinite loop\ninfinite loop\ninfinite loop\ninfinite loop\ninfinite loop\ninfinite loop\ninfinite loop\ninfinite loop\ninfinite loop\ninfinite loop\ninfinite loop\ninfinite loop\ninfinite loop\ninfinite loop\ninfinite loop\ninfinite loop\ninfinite loop\ninfinite loop\ninfinite loop\ninfinite loop\ninfinite loop\ninfinite loop\ninfinite loop\ninfinite loop\ninfinite loop\ninfinite loop\ninfinite loop\ninfinite loop\ninfinite loop\ninfinite loop\ninfinite loop\ninfinite loop\ninfinite loop\ninfinite loop\ninfinite loop\ninfinite loop\ninfinite loop\ninfinite loop\ninfinite loop\ninfinite loop\ninfinite loop\ninfinite loop\ninfinite loop\ninfinite loop\ninfinite loop\ninfinite loop\ninfinite loop\ninfinite loop\ninfinite loop\ninfinite loop\ninfinite loop\ninfinite loop\ninfinite loop\ninfinite loop\ninfinite loop\ninfinite loop\ninfinite loop\ninfinite loop\ninfinite loop\ninfinite loop\ninfinite loop\ninfinite loop\ninfinite loop\ninfinite loop\ninfinite loop\ninfinite loop\ninfinite loop\ninfinite loop\ninfinite loop\ninfinite loop\ninfinite loop\ninfinite loop\ninfinite loop\ninfinite loop\ninfinite loop\ninfinite loop\ninfinite loop\ninfinite loop\ninfinite loop\ninfinite loop\ninfinite loop\ninfinite loop\ninfinite loop\ninfinite loop\ninfinite loop\ninfinite loop\ninfinite loop\ninfinite loop\ninfinite loop\ninfinite loop\ninfinite loop\ninfinite loop\ninfinite loop\ninfinite loop\ninfinite loop\ninfinite loop\ninfinite loop\ninfinite loop\ninfinite loop\ninfinite loop\ninfinite loop\ninfinite loop\ninfinite loop\ninfinite loop\ninfinite loop\ninfinite loop\ninfinite loop\ninfinite loop\ninfinite loop\ninfinite loop\ninfinite loop\ninfinite loop\ninfinite loop\ninfinite loop\ninfinite loop\ninfinite loop\ninfinite loop\ninfinite loop\ninfinite loop\ninfinite loop\ninfinite loop\ninfinite loop\ninfinite loop\ninfinite loop\ninfinite loop\ninfinite loop\ninfinite loop\ninfinite loop\ninfinite loop\ninfinite loop\ninfinite loop\ninfinite loop\ninfinite loop\ninfinite loop\ninfinite loop\ninfinite loop\ninfinite loop\ninfinite loop\ninfinite loop\ninfinite loop\ninfinite loop\ninfinite loop\ninfinite loop\ninfinite loop\ninfinite loop\ninfinite loop\ninfinite loop\ninfinite loop\ninfinite loop\ninfinite loop\ninfinite loop\ninfinite loop\ninfinite loop\ninfinite loop\ninfinite loop\ninfinite loop\ninfinite loop\ninfinite loop\ninfinite loop\ninfinite loop\ninfinite loop\ninfinite loop\ninfinite loop\ninfinite loop\ninfinite loop\ninfinite loop\ninfinite loop\ninfinite loop\ninfinite loop\ninfinite loop\ninfinite loop\ninfinite loop\ninfinite loop\ninfinite loop\ninfinite loop\ninfinite loop\ninfinite loop\ninfinite loop\ninfinite loop\ninfinite loop\ninfinite loop\ninfinite loop\ninfinite loop\ninfinite loop\ninfinite loop\ninfinite loop\ninfinite loop\ninfinite loop\ninfinite loop\ninfinite loop\ninfinite loop\ninfinite loop\ninfinite loop\ninfinite loop\ninfinite loop\ninfinite loop\ninfinite loop\ninfinite loop\ninfinite loop\ninfinite loop\ninfinite loop\ninfinite loop\ninfinite loop\ninfinite loop\ninfinite loop\ninfinite loop\ninfinite loop\ninfinite loop\ninfinite loop\ninfinite loop\ninfinite loop\ninfinite loop\ninfinite loop\ninfinite loop\ninfinite loop\ninfinite loop\ninfinite loop\ninfinite loop\ninfinite loop\ninfinite loop\ninfinite loop\ninfinite loop\ninfinite loop\ninfinite loop\ninfinite loop\ninfinite loop\ninfinite loop\ninfinite loop\ninfinite loop\ninfinite loop\ninfinite loop\ninfinite loop\ninfinite loop\ninfinite loop\ninfinite loop\ninfinite loop\ninfinite loop\ninfinite loop\ninfinite loop\ninfinite loop\ninfinite loop\ninfinite loop\ninfinite loop\ninfinite loop\ninfinite loop\ninfinite loop\ninfinite loop\ninfinite loop\ninfinite loop\ninfinite loop\ninfinite loop\ninfinite loop\ninfinite loop\ninfinite loop\ninfinite loop\ninfinite loop\ninfinite loop\ninfinite loop\ninfinite loop\ninfinite loop\ninfinite loop\ninfinite loop\ninfinite loop\ninfinite loop\ninfinite loop\ninfinite loop\ninfinite loop\ninfinite loop\ninfinite loop\ninfinite loop\ninfinite loop\ninfinite loop\ninfinite loop\ninfinite loop\ninfinite loop\ninfinite loop\ninfinite loop\ninfinite loop\ninfinite loop\ninfinite loop\ninfinite loop\ninfinite loop\ninfinite loop\ninfinite loop\ninfinite loop\ninfinite loop\ninfinite loop\ninfinite loop\ninfinite loop\ninfinite loop\ninfinite loop\ninfinite loop\ninfinite loop\ninfinite loop\ninfinite loop\ninfinite loop\ninfinite loop\ninfinite loop\ninfinite loop\ninfinite loop\ninfinite loop\ninfinite loop\ninfinite loop\ninfinite loop\ninfinite loop\ninfinite loop\ninfinite loop\ninfinite loop\ninfinite loop\ninfinite loop\ninfinite loop\ninfinite loop\ninfinite loop\ninfinite loop\ninfinite loop\ninfinite loop\ninfinite loop\ninfinite loop\ninfinite loop\ninfinite loop\ninfinite loop\ninfinite loop\ninfinite loop\ninfinite loop\ninfinite loop\ninfinite loop\ninfinite loop\ninfinite loop\ninfinite loop\ninfinite loop\ninfinite loop\ninfinite loop\ninfinite loop\ninfinite loop\ninfinite loop\ninfinite loop\ninfinite loop\ninfinite loop\ninfinite loop\ninfinite loop\ninfinite loop\ninfinite loop\ninfinite loop\ninfinite loop\ninfinite loop\ninfinite loop\ninfinite loop\ninfinite loop\ninfinite loop\ninfinite loop\ninfinite loop\ninfinite loop\ninfinite loop\ninfinite loop\ninfinite loop\ninfinite loop\ninfinite loop\ninfinite loop\ninfinite loop\ninfinite loop\ninfinite loop\ninfinite loop\ninfinite loop\ninfinite loop\ninfinite loop\ninfinite loop\ninfinite loop\ninfinite loop\ninfinite loop\ninfinite loop\ninfinite loop\ninfinite loop\ninfinite loop\ninfinite loop\ninfinite loop\ninfinite loop\ninfinite loop\ninfinite loop\ninfinite loop\ninfinite loop\ninfinite loop\ninfinite loop\ninfinite loop\ninfinite loop\ninfinite loop\ninfinite loop\ninfinite loop\ninfinite loop\ninfinite loop\ninfinite loop\ninfinite loop\ninfinite loop\ninfinite loop\ninfinite loop\ninfinite loop\ninfinite loop\ninfinite loop\ninfinite loop\ninfinite loop\ninfinite loop\ninfinite loop\ninfinite loop\ninfinite loop\ninfinite loop\ninfinite loop\ninfinite loop\ninfinite loop\ninfinite loop\ninfinite loop\ninfinite loop\ninfinite loop\ninfinite loop\ninfinite loop\ninfinite loop\ninfinite loop\ninfinite loop\ninfinite loop\ninfinite loop\ninfinite loop\ninfinite loop\ninfinite loop\ninfinite loop\ninfinite loop\ninfinite loop\ninfinite loop\ninfinite loop\ninfinite loop\ninfinite loop\ninfinite loop\ninfinite loop\ninfinite loop\ninfinite loop\ninfinite loop\ninfinite loop\ninfinite loop\ninfinite loop\ninfinite loop\ninfinite loop\ninfinite loop\ninfinite loop\ninfinite loop\ninfinite loop\ninfinite loop\ninfinite loop\ninfinite loop\ninfinite loop\ninfinite loop\ninfinite loop\ninfinite loop\ninfinite loop\ninfinite loop\ninfinite loop\ninfinite loop\ninfinite loop\ninfinite loop\ninfinite loop\ninfinite loop\ninfinite loop\ninfinite loop\ninfinite loop\ninfinite loop\ninfinite loop\ninfinite loop\ninfinite loop\ninfinite loop\ninfinite loop\ninfinite loop\ninfinite loop\ninfinite loop\ninfinite loop\ninfinite loop\ninfinite loop\ninfinite loop\ninfinite loop\ninfinite loop\ninfinite loop\ninfinite loop\ninfinite loop\ninfinite loop\ninfinite loop\ninfinite loop\ninfinite loop\ninfinite loop\ninfinite loop\ninfinite loop\ninfinite loop\ninfinite loop\ninfinite loop\ninfinite loop\ninfinite loop\ninfinite loop\ninfinite loop\ninfinite loop\ninfinite loop\ninfinite loop\ninfinite loop\ninfinite loop\ninfinite loop\ninfinite loop\ninfinite loop\ninfinite loop\ninfinite loop\ninfinite loop\ninfinite loop\ninfinite loop\ninfinite loop\ninfinite loop\ninfinite loop\ninfinite loop\ninfinite loop\ninfinite loop\ninfinite loop\ninfinite loop\ninfinite loop\ninfinite loop\ninfinite loop\ninfinite loop\ninfinite loop\ninfinite loop\ninfinite loop\ninfinite loop\ninfinite loop\ninfinite loop\ninfinite loop\ninfinite loop\ninfinite loop\ninfinite loop\ninfinite loop\ninfinite loop\ninfinite loop\ninfinite loop\ninfinite loop\ninfinite loop\ninfinite loop\ninfinite loop\ninfinite loop\ninfinite loop\ninfinite loop\ninfinite loop\ninfinite loop\ninfinite loop\ninfinite loop\ninfinite loop\ninfinite loop\ninfinite loop\ninfinite loop\ninfinite loop\ninfinite loop\ninfinite loop\ninfinite loop\ninfinite loop\ninfinite loop\ninfinite loop\ninfinite loop\ninfinite loop\ninfinite loop\ninfinite loop\ninfinite loop\ninfinite loop\ninfinite loop\ninfinite loop\ninfinite loop\ninfinite loop\ninfinite loop\ninfinite loop\ninfinite loop\ninfinite loop\ninfinite loop\ninfinite loop\ninfinite loop\ninfinite loop\ninfinite loop\ninfinite loop\ninfinite loop\ninfinite loop\ninfinite loop\ninfinite loop\ninfinite loop\ninfinite loop\ninfinite loop\ninfinite loop\ninfinite loop\ninfinite loop\ninfinite loop\ninfinite loop\ninfinite loop\ninfinite loop\ninfinite loop\ninfinite loop\ninfinite loop\ninfinite loop\ninfinite loop\ninfinite loop\ninfinite loop\ninfinite loop\ninfinite loop\ninfinite loop\ninfinite loop\ninfinite loop\ninfinite loop\ninfinite loop\ninfinite loop\ninfinite loop\ninfinite loop\ninfinite loop\n"
    },
    {
     "output_type": "error",
     "ename": "KeyboardInterrupt",
     "evalue": "",
     "traceback": [
      "\u001b[0;31m---------------------------------------------------------------------------\u001b[0m",
      "\u001b[0;31mKeyboardInterrupt\u001b[0m                         Traceback (most recent call last)",
      "\u001b[0;32m<ipython-input-2-d35194fa6367>\u001b[0m in \u001b[0;36m<module>\u001b[0;34m\u001b[0m\n\u001b[1;32m      1\u001b[0m \u001b[0;32mwhile\u001b[0m \u001b[0;32mTrue\u001b[0m\u001b[0;34m:\u001b[0m\u001b[0;34m\u001b[0m\u001b[0;34m\u001b[0m\u001b[0m\n\u001b[0;32m----> 2\u001b[0;31m     \u001b[0mprint\u001b[0m\u001b[0;34m(\u001b[0m\u001b[0;34m\"infinite loop\"\u001b[0m\u001b[0;34m)\u001b[0m\u001b[0;34m\u001b[0m\u001b[0;34m\u001b[0m\u001b[0m\n\u001b[0m",
      "\u001b[0;32m~/Library/Python/3.8/lib/python/site-packages/ipykernel/iostream.py\u001b[0m in \u001b[0;36mwrite\u001b[0;34m(self, string)\u001b[0m\n\u001b[1;32m    402\u001b[0m             \u001b[0mis_child\u001b[0m \u001b[0;34m=\u001b[0m \u001b[0;34m(\u001b[0m\u001b[0;32mnot\u001b[0m \u001b[0mself\u001b[0m\u001b[0;34m.\u001b[0m\u001b[0m_is_master_process\u001b[0m\u001b[0;34m(\u001b[0m\u001b[0;34m)\u001b[0m\u001b[0;34m)\u001b[0m\u001b[0;34m\u001b[0m\u001b[0;34m\u001b[0m\u001b[0m\n\u001b[1;32m    403\u001b[0m             \u001b[0;31m# only touch the buffer in the IO thread to avoid races\u001b[0m\u001b[0;34m\u001b[0m\u001b[0;34m\u001b[0m\u001b[0;34m\u001b[0m\u001b[0m\n\u001b[0;32m--> 404\u001b[0;31m             \u001b[0mself\u001b[0m\u001b[0;34m.\u001b[0m\u001b[0mpub_thread\u001b[0m\u001b[0;34m.\u001b[0m\u001b[0mschedule\u001b[0m\u001b[0;34m(\u001b[0m\u001b[0;32mlambda\u001b[0m \u001b[0;34m:\u001b[0m \u001b[0mself\u001b[0m\u001b[0;34m.\u001b[0m\u001b[0m_buffer\u001b[0m\u001b[0;34m.\u001b[0m\u001b[0mwrite\u001b[0m\u001b[0;34m(\u001b[0m\u001b[0mstring\u001b[0m\u001b[0;34m)\u001b[0m\u001b[0;34m)\u001b[0m\u001b[0;34m\u001b[0m\u001b[0;34m\u001b[0m\u001b[0m\n\u001b[0m\u001b[1;32m    405\u001b[0m             \u001b[0;32mif\u001b[0m \u001b[0mis_child\u001b[0m\u001b[0;34m:\u001b[0m\u001b[0;34m\u001b[0m\u001b[0;34m\u001b[0m\u001b[0m\n\u001b[1;32m    406\u001b[0m                 \u001b[0;31m# mp.Pool cannot be trusted to flush promptly (or ever),\u001b[0m\u001b[0;34m\u001b[0m\u001b[0;34m\u001b[0m\u001b[0;34m\u001b[0m\u001b[0m\n",
      "\u001b[0;32m~/Library/Python/3.8/lib/python/site-packages/ipykernel/iostream.py\u001b[0m in \u001b[0;36mschedule\u001b[0;34m(self, f)\u001b[0m\n\u001b[1;32m    203\u001b[0m             \u001b[0mself\u001b[0m\u001b[0;34m.\u001b[0m\u001b[0m_events\u001b[0m\u001b[0;34m.\u001b[0m\u001b[0mappend\u001b[0m\u001b[0;34m(\u001b[0m\u001b[0mf\u001b[0m\u001b[0;34m)\u001b[0m\u001b[0;34m\u001b[0m\u001b[0;34m\u001b[0m\u001b[0m\n\u001b[1;32m    204\u001b[0m             \u001b[0;31m# wake event thread (message content is ignored)\u001b[0m\u001b[0;34m\u001b[0m\u001b[0;34m\u001b[0m\u001b[0;34m\u001b[0m\u001b[0m\n\u001b[0;32m--> 205\u001b[0;31m             \u001b[0mself\u001b[0m\u001b[0;34m.\u001b[0m\u001b[0m_event_pipe\u001b[0m\u001b[0;34m.\u001b[0m\u001b[0msend\u001b[0m\u001b[0;34m(\u001b[0m\u001b[0;34mb''\u001b[0m\u001b[0;34m)\u001b[0m\u001b[0;34m\u001b[0m\u001b[0;34m\u001b[0m\u001b[0m\n\u001b[0m\u001b[1;32m    206\u001b[0m         \u001b[0;32melse\u001b[0m\u001b[0;34m:\u001b[0m\u001b[0;34m\u001b[0m\u001b[0;34m\u001b[0m\u001b[0m\n\u001b[1;32m    207\u001b[0m             \u001b[0mf\u001b[0m\u001b[0;34m(\u001b[0m\u001b[0;34m)\u001b[0m\u001b[0;34m\u001b[0m\u001b[0;34m\u001b[0m\u001b[0m\n",
      "\u001b[0;32m~/Library/Python/3.8/lib/python/site-packages/zmq/sugar/socket.py\u001b[0m in \u001b[0;36msend\u001b[0;34m(self, data, flags, copy, track, routing_id, group)\u001b[0m\n\u001b[1;32m    414\u001b[0m                                  copy_threshold=self.copy_threshold)\n\u001b[1;32m    415\u001b[0m             \u001b[0mdata\u001b[0m\u001b[0;34m.\u001b[0m\u001b[0mgroup\u001b[0m \u001b[0;34m=\u001b[0m \u001b[0mgroup\u001b[0m\u001b[0;34m\u001b[0m\u001b[0;34m\u001b[0m\u001b[0m\n\u001b[0;32m--> 416\u001b[0;31m         \u001b[0;32mreturn\u001b[0m \u001b[0msuper\u001b[0m\u001b[0;34m(\u001b[0m\u001b[0mSocket\u001b[0m\u001b[0;34m,\u001b[0m \u001b[0mself\u001b[0m\u001b[0;34m)\u001b[0m\u001b[0;34m.\u001b[0m\u001b[0msend\u001b[0m\u001b[0;34m(\u001b[0m\u001b[0mdata\u001b[0m\u001b[0;34m,\u001b[0m \u001b[0mflags\u001b[0m\u001b[0;34m=\u001b[0m\u001b[0mflags\u001b[0m\u001b[0;34m,\u001b[0m \u001b[0mcopy\u001b[0m\u001b[0;34m=\u001b[0m\u001b[0mcopy\u001b[0m\u001b[0;34m,\u001b[0m \u001b[0mtrack\u001b[0m\u001b[0;34m=\u001b[0m\u001b[0mtrack\u001b[0m\u001b[0;34m)\u001b[0m\u001b[0;34m\u001b[0m\u001b[0;34m\u001b[0m\u001b[0m\n\u001b[0m\u001b[1;32m    417\u001b[0m \u001b[0;34m\u001b[0m\u001b[0m\n\u001b[1;32m    418\u001b[0m     \u001b[0;32mdef\u001b[0m \u001b[0msend_multipart\u001b[0m\u001b[0;34m(\u001b[0m\u001b[0mself\u001b[0m\u001b[0;34m,\u001b[0m \u001b[0mmsg_parts\u001b[0m\u001b[0;34m,\u001b[0m \u001b[0mflags\u001b[0m\u001b[0;34m=\u001b[0m\u001b[0;36m0\u001b[0m\u001b[0;34m,\u001b[0m \u001b[0mcopy\u001b[0m\u001b[0;34m=\u001b[0m\u001b[0;32mTrue\u001b[0m\u001b[0;34m,\u001b[0m \u001b[0mtrack\u001b[0m\u001b[0;34m=\u001b[0m\u001b[0;32mFalse\u001b[0m\u001b[0;34m,\u001b[0m \u001b[0;34m**\u001b[0m\u001b[0mkwargs\u001b[0m\u001b[0;34m)\u001b[0m\u001b[0;34m:\u001b[0m\u001b[0;34m\u001b[0m\u001b[0;34m\u001b[0m\u001b[0m\n",
      "\u001b[0;32mzmq/backend/cython/socket.pyx\u001b[0m in \u001b[0;36mzmq.backend.cython.socket.Socket.send\u001b[0;34m()\u001b[0m\n",
      "\u001b[0;32mzmq/backend/cython/socket.pyx\u001b[0m in \u001b[0;36mzmq.backend.cython.socket.Socket.send\u001b[0;34m()\u001b[0m\n",
      "\u001b[0;32mzmq/backend/cython/socket.pyx\u001b[0m in \u001b[0;36mzmq.backend.cython.socket._send_copy\u001b[0;34m()\u001b[0m\n",
      "\u001b[0;32m~/Library/Python/3.8/lib/python/site-packages/zmq/backend/cython/checkrc.pxd\u001b[0m in \u001b[0;36mzmq.backend.cython.checkrc._check_rc\u001b[0;34m()\u001b[0m\n",
      "\u001b[0;31mKeyboardInterrupt\u001b[0m: "
     ]
    }
   ],
   "source": [
    "while True:\n",
    "    print(\"infinite loop\")"
   ]
  },
  {
   "cell_type": "markdown",
   "metadata": {},
   "source": [
    "## Objects\n",
    "---"
   ]
  },
  {
   "cell_type": "code",
   "execution_count": null,
   "metadata": {},
   "outputs": [],
   "source": [
    "class Person:\n",
    "    def __init__(self, weight: int, height: int, name: str):\n",
    "        self.weight = weight\n",
    "        self.height = height\n",
    "        self.name = name\n",
    "\n",
    "    def who_is_this(self):\n",
    "        print(\"This person's name is \" + self.name)\n",
    "        print(\"This person's weight is \" + str(self.weight) + \" pounds\")\n",
    "        print(\"This person's height is \" + str(self.height) + \" inches\")\n",
    "    \n",
    "if __name__ == \"__main__\":\n",
    "    Kipp = Person(225, 70, \"Aaron Kippins\")\n",
    "    Kipp.who_is_this()\n"
   ]
  },
  {
   "cell_type": "markdown",
   "metadata": {},
   "source": [
    "## Simple HTML\n",
    "---"
   ]
  },
  {
   "cell_type": "markdown",
   "metadata": {},
   "source": [
    "## Intro to CSS\n",
    "---\n"
   ]
  },
  {
   "cell_type": "markdown",
   "metadata": {},
   "source": [
    "## Due Next Week\n",
    "---\n",
    "- Assignment #3 \n",
    "- Lab #2"
   ]
  }
 ]
}